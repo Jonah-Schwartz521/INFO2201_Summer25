{
 "cells": [
  {
   "cell_type": "markdown",
   "metadata": {
    "id": "5TSRRVgrPMiN"
   },
   "source": [
    "# Week 2 Summary Activity"
   ]
  },
  {
   "cell_type": "markdown",
   "metadata": {
    "id": "xRRivfQIPVvP"
   },
   "source": [
    "## Problem 1 - Dictionaries\n",
    "\n"
   ]
  },
  {
   "cell_type": "code",
   "execution_count": 9,
   "metadata": {
    "executionInfo": {
     "elapsed": 12,
     "status": "ok",
     "timestamp": 1687202049341,
     "user": {
      "displayName": "Anas X384569",
      "userId": "13931278578707862625"
     },
     "user_tz": 360
    },
    "id": "37qHxmKDPBkP"
   },
   "outputs": [],
   "source": [
    "student_dictionary = { 101 : {'Name': 'George Bluth',\n",
    "                              'AverageScore': 85,\n",
    "                               'Year' : 2,\n",
    "                              'Class' : 'INFO1201'\n",
    "                              },\n",
    "                     102 : {'Name': 'Lucille Bluth',\n",
    "                              'AverageScore': 100,\n",
    "                               'Year' : 3,\n",
    "                              'Class' : 'INFO1201'\n",
    "                              },\n",
    "                     103 : {'Name': 'George Michael Bluth',\n",
    "                              'AverageScore': 98,\n",
    "                               'Year' : 1,\n",
    "                              'Class' : 'INFO1101'\n",
    "                              },\n",
    "                     104 : {'Name': 'Michael Bluth',\n",
    "                              'AverageScore': 90,\n",
    "                               'Year' : 5,\n",
    "                              'Class' : 'INFO2201'\n",
    "                              },\n",
    "                     105 : {'Name': 'Gob Bluth',\n",
    "                              'AverageScore': 40,\n",
    "                               'Year' : 8,\n",
    "                              'Class' : 'INFO1101'\n",
    "                              },\n",
    "                     106 : {'Name': 'Lindsay Bluth',\n",
    "                              'AverageScore': 70,\n",
    "                               'Year' : 4,\n",
    "                              'Class' : 'INFO1201'\n",
    "                              },\n",
    "                     107 : {'Name': 'Buster Bluth',\n",
    "                              'AverageScore': 95,\n",
    "                               'Year' : 2,\n",
    "                              'Class' : 'INFO1201'\n",
    "                              },\n",
    "                     108 : {'Name': 'Sally Sitwell',\n",
    "                              'AverageScore': 93,\n",
    "                               'Year' : 2,\n",
    "                              'Class' : 'INFO1201'\n",
    "                              }}"
   ]
  },
  {
   "cell_type": "code",
   "execution_count": 28,
   "metadata": {
    "id": "_6rz2SNfQvHy"
   },
   "outputs": [
    {
     "name": "stdout",
     "output_type": "stream",
     "text": [
      "George Bluth : 85\n",
      "Lucille Bluth : 100\n",
      "George Michael Bluth : 98\n",
      "Michael Bluth : 90\n",
      "Gob Bluth : 40\n",
      "Lindsay Bluth : 70\n",
      "Buster Bluth : 95\n",
      "Sally Sitwell : 93\n"
     ]
    }
   ],
   "source": [
    "#### Question 1:\n",
    "# Iterate through the dictionary and print out students names and their average score\n",
    "# Ex: Lucille Bluth : 98\n",
    "\n",
    "# for student in student_dictionary:\n",
    "  \n",
    "# iterate through main dictionary  \n",
    "for student in student_dictionary:\n",
    "    # print out contents within the nested dictionary\n",
    "    print(student_dictionary[student]['Name'], \":\", student_dictionary[student]['AverageScore'])    \n",
    "\n",
    "\n"
   ]
  },
  {
   "cell_type": "markdown",
   "metadata": {
    "id": "AJRQzwMmQ8hn"
   },
   "source": [
    "#### Question 2:\n",
    "Find the student with the highest average score"
   ]
  },
  {
   "cell_type": "code",
   "execution_count": null,
   "metadata": {
    "colab": {
     "base_uri": "https://localhost:8080/"
    },
    "executionInfo": {
     "elapsed": 5,
     "status": "ok",
     "timestamp": 1687190584189,
     "user": {
      "displayName": "Anas X384569",
      "userId": "13931278578707862625"
     },
     "user_tz": 360
    },
    "id": "9l-EKif6Qqzg",
    "outputId": "4e7f9eac-9128-4ae4-d29a-a0197e2741e1"
   },
   "outputs": [
    {
     "name": "stdout",
     "output_type": "stream",
     "text": [
      "Lucille Bluth\n",
      "100\n"
     ]
    }
   ],
   "source": [
    "# initalize a score\n",
    "highest_score = 0 \n",
    "# iterate through main dictionary\n",
    "for student in student_dictionary:\n",
    "    # check if student's score is greater than score variable\n",
    "    if student_dictionary[student]['AverageScore'] > highest_score:\n",
    "        # if it is, set that variable to equal the score \n",
    "        highest_score = student_dictionary[student]['AverageScore'] \n",
    "        # create a new variable to get student name \n",
    "        highest_score_name = student_dictionary[student]['Name']\n",
    "        # print the results\n",
    "print(highest_score_name)\n",
    "print(highest_score)\n",
    "\n",
    "\n",
    "        "
   ]
  },
  {
   "cell_type": "markdown",
   "metadata": {
    "id": "DNUm-yR1Q-Dt"
   },
   "source": [
    "#### Question 3:\n",
    "Find the total average of all the students"
   ]
  },
  {
   "cell_type": "code",
   "execution_count": 21,
   "metadata": {
    "colab": {
     "base_uri": "https://localhost:8080/"
    },
    "executionInfo": {
     "elapsed": 2,
     "status": "ok",
     "timestamp": 1687190584346,
     "user": {
      "displayName": "Anas X384569",
      "userId": "13931278578707862625"
     },
     "user_tz": 360
    },
    "id": "FPFNKTpGRDOZ",
    "outputId": "6ca803de-7ece-41f2-c190-f33ddcf61931"
   },
   "outputs": [
    {
     "name": "stdout",
     "output_type": "stream",
     "text": [
      "83.875\n"
     ]
    }
   ],
   "source": [
    "# initialize a score\n",
    "total_score = 0 \n",
    "# iterate through main dictionary\n",
    "for student in student_dictionary:\n",
    "    # add the current score to the total score \n",
    "    total_score += student_dictionary[student]['AverageScore']\n",
    "     # divide total score by length of main dictionary and set as new variable \n",
    "average_score = total_score / len(student_dictionary)\n",
    "# print the result \n",
    "print(average_score)\n"
   ]
  },
  {
   "cell_type": "markdown",
   "metadata": {
    "id": "pmS0IrwKRD7a"
   },
   "source": [
    "## Problem 2 - Functions"
   ]
  },
  {
   "cell_type": "markdown",
   "metadata": {
    "id": "kVWNpOenSZq_"
   },
   "source": [
    "Create a function to read two six-sided dice, each with faces containing one, two, three, four, five and six spots, respectively. When the dice come to rest, the sum of the spots on the two upward faces is calculated. If the sum is 7 or 11 on the first roll, you win. If the sum is 2, 3 or 12 on the first roll (called “craps”), you lose (i.e., the “house” wins). If the sum is 4, 5, 6, 8, 9 or 10 on the first roll, that sum becomes your “point.” To win, you must continue rolling the dice until you “make your point” (i.e., roll that same point value). You lose by rolling a 7 before making your point."
   ]
  },
  {
   "cell_type": "code",
   "execution_count": 22,
   "metadata": {},
   "outputs": [],
   "source": [
    "import random "
   ]
  },
  {
   "cell_type": "code",
   "execution_count": null,
   "metadata": {
    "id": "rlThnSfVRsF3"
   },
   "outputs": [],
   "source": [
    "def read_dye():\n",
    "   "
   ]
  },
  {
   "cell_type": "code",
   "execution_count": null,
   "metadata": {
    "colab": {
     "base_uri": "https://localhost:8080/"
    },
    "executionInfo": {
     "elapsed": 1259,
     "status": "ok",
     "timestamp": 1687194202141,
     "user": {
      "displayName": "Anas X384569",
      "userId": "13931278578707862625"
     },
     "user_tz": 360
    },
    "id": "aN44-N1rdGrg",
    "outputId": "7c67c4a9-8fc4-427d-b537-d7dca8b899bf"
   },
   "outputs": [],
   "source": []
  },
  {
   "cell_type": "markdown",
   "metadata": {
    "id": "XnNFuRcxSrO-"
   },
   "source": [
    "## Problem 3 - Classes"
   ]
  },
  {
   "cell_type": "markdown",
   "metadata": {
    "id": "c-gC7F5-UWFi"
   },
   "source": [
    "#### Question 1:\n",
    "\n",
    "Build a class object for restaurant informatoin. The class should have the following:\n",
    "1.   A method that reads dishes and append them to a list or a dictionary\n",
    "2.   A method that prints out the saved dishes\n",
    "\n"
   ]
  },
  {
   "cell_type": "code",
   "execution_count": null,
   "metadata": {
    "executionInfo": {
     "elapsed": 10,
     "status": "ok",
     "timestamp": 1687203446281,
     "user": {
      "displayName": "Anas X384569",
      "userId": "13931278578707862625"
     },
     "user_tz": 360
    },
    "id": "sk0TpU_WT4r6"
   },
   "outputs": [],
   "source": []
  },
  {
   "cell_type": "markdown",
   "metadata": {
    "id": "URt_0jI9V2VW"
   },
   "source": [
    "#### Question 2:\n",
    "\n",
    "create a class instance"
   ]
  },
  {
   "cell_type": "code",
   "execution_count": 21,
   "metadata": {
    "executionInfo": {
     "elapsed": 26,
     "status": "ok",
     "timestamp": 1687203446853,
     "user": {
      "displayName": "Anas X384569",
      "userId": "13931278578707862625"
     },
     "user_tz": 360
    },
    "id": "UBCKAYh7WNL0"
   },
   "outputs": [],
   "source": []
  },
  {
   "cell_type": "code",
   "execution_count": null,
   "metadata": {
    "colab": {
     "base_uri": "https://localhost:8080/"
    },
    "executionInfo": {
     "elapsed": 32,
     "status": "ok",
     "timestamp": 1687203446861,
     "user": {
      "displayName": "Anas X384569",
      "userId": "13931278578707862625"
     },
     "user_tz": 360
    },
    "id": "jG7hMfJ3YLc-",
    "outputId": "6141589c-9b5a-433f-d91a-73b54714d203"
   },
   "outputs": [],
   "source": []
  },
  {
   "cell_type": "code",
   "execution_count": 23,
   "metadata": {
    "colab": {
     "base_uri": "https://localhost:8080/",
     "height": 35
    },
    "executionInfo": {
     "elapsed": 21,
     "status": "ok",
     "timestamp": 1687203448553,
     "user": {
      "displayName": "Anas X384569",
      "userId": "13931278578707862625"
     },
     "user_tz": 360
    },
    "id": "WKa0s_ijYNUW",
    "outputId": "8ac857fb-da93-4d63-de0b-ad4b7ef2924b"
   },
   "outputs": [
    {
     "data": {
      "application/vnd.google.colaboratory.intrinsic+json": {
       "type": "string"
      },
      "text/plain": [
       "'Good Old Burgers'"
      ]
     },
     "execution_count": 23,
     "metadata": {},
     "output_type": "execute_result"
    }
   ],
   "source": []
  },
  {
   "cell_type": "markdown",
   "metadata": {
    "id": "DWsbDNsDWQzn"
   },
   "source": [
    "#### Question 3:\n",
    "use the two methods you created"
   ]
  },
  {
   "cell_type": "code",
   "execution_count": null,
   "metadata": {
    "executionInfo": {
     "elapsed": 46,
     "status": "ok",
     "timestamp": 1687203451638,
     "user": {
      "displayName": "Anas X384569",
      "userId": "13931278578707862625"
     },
     "user_tz": 360
    },
    "id": "X9b8qUlfWU8q"
   },
   "outputs": [],
   "source": []
  },
  {
   "cell_type": "code",
   "execution_count": null,
   "metadata": {
    "colab": {
     "base_uri": "https://localhost:8080/"
    },
    "executionInfo": {
     "elapsed": 45,
     "status": "ok",
     "timestamp": 1687203451641,
     "user": {
      "displayName": "Anas X384569",
      "userId": "13931278578707862625"
     },
     "user_tz": 360
    },
    "id": "mcVaiam5JVAv",
    "outputId": "299d87b0-5ba0-433b-c9d4-d82a169e7929"
   },
   "outputs": [],
   "source": []
  },
  {
   "cell_type": "code",
   "execution_count": null,
   "metadata": {
    "colab": {
     "base_uri": "https://localhost:8080/"
    },
    "executionInfo": {
     "elapsed": 39,
     "status": "ok",
     "timestamp": 1687203452761,
     "user": {
      "displayName": "Anas X384569",
      "userId": "13931278578707862625"
     },
     "user_tz": 360
    },
    "id": "RUHxODeBWVYq",
    "outputId": "8b164dcf-e872-4069-d0d2-34d566df131a"
   },
   "outputs": [],
   "source": []
  },
  {
   "cell_type": "markdown",
   "metadata": {
    "id": "lQjnNU89WV9l"
   },
   "source": [
    "#### Question 4:\n",
    "\n",
    "update a value you have in the class instance you created"
   ]
  },
  {
   "cell_type": "code",
   "execution_count": null,
   "metadata": {
    "colab": {
     "base_uri": "https://localhost:8080/",
     "height": 35
    },
    "executionInfo": {
     "elapsed": 345,
     "status": "ok",
     "timestamp": 1687203459193,
     "user": {
      "displayName": "Anas X384569",
      "userId": "13931278578707862625"
     },
     "user_tz": 360
    },
    "id": "O-Fvm_oxKaU7",
    "outputId": "08b511cb-80b3-4dab-a0c9-e32a189d8a46"
   },
   "outputs": [],
   "source": []
  },
  {
   "cell_type": "code",
   "execution_count": 17,
   "metadata": {
    "executionInfo": {
     "elapsed": 180,
     "status": "ok",
     "timestamp": 1687203361618,
     "user": {
      "displayName": "Anas X384569",
      "userId": "13931278578707862625"
     },
     "user_tz": 360
    },
    "id": "4S2_nRifZNGA"
   },
   "outputs": [],
   "source": []
  },
  {
   "cell_type": "code",
   "execution_count": null,
   "metadata": {
    "colab": {
     "base_uri": "https://localhost:8080/",
     "height": 35
    },
    "executionInfo": {
     "elapsed": 213,
     "status": "ok",
     "timestamp": 1687203370892,
     "user": {
      "displayName": "Anas X384569",
      "userId": "13931278578707862625"
     },
     "user_tz": 360
    },
    "id": "P1kyxCs1KDcu",
    "outputId": "5c8cf16d-5dfa-4bf9-e840-616cfc0bf33f"
   },
   "outputs": [],
   "source": []
  },
  {
   "cell_type": "code",
   "execution_count": null,
   "metadata": {
    "id": "2oo7coeBZMd1"
   },
   "outputs": [],
   "source": []
  }
 ],
 "metadata": {
  "colab": {
   "authorship_tag": "ABX9TyN+mTOgV/u00LA/txUZYD5b",
   "provenance": []
  },
  "kernelspec": {
   "display_name": "base",
   "language": "python",
   "name": "python3"
  },
  "language_info": {
   "codemirror_mode": {
    "name": "ipython",
    "version": 3
   },
   "file_extension": ".py",
   "mimetype": "text/x-python",
   "name": "python",
   "nbconvert_exporter": "python",
   "pygments_lexer": "ipython3",
   "version": "3.12.4"
  }
 },
 "nbformat": 4,
 "nbformat_minor": 0
}
